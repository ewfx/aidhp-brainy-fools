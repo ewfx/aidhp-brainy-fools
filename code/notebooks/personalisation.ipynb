import pandas as pd
import numpy as np
from sklearn.preprocessing import StandardScaler
from sklearn.cluster import KMeans
from sklearn.ensemble import IsolationForest
from sklearn.feature_extraction.text import TfidfVectorizer
from sklearn.metrics.pairwise import cosine_similarity
from nltk.sentiment import SentimentIntensityAnalyzer
import nltk
import plotly.graph_objects as go
import plotly.express as px
from plotly.subplots import make_subplots
from IPython.display import display, HTML
import warnings
from datetime import datetime, timedelta
import random
warnings.filterwarnings("ignore")

# Initialize NLTK
nltk.download('vader_lexicon', quiet=True)

# ========== ENHANCED BANKING DATASET ==========
def generate_synthetic_banking_data(num_customers=500):

    np.random.seed(42)
    random.seed(42)
    
    # US states with abbreviations
    us_states = {
        'AL': 'Alabama', 'AK': 'Alaska', 'AZ': 'Arizona', 'AR': 'Arkansas', 'CA': 'California',
        'CO': 'Colorado', 'CT': 'Connecticut', 'DE': 'Delaware', 'FL': 'Florida', 'GA': 'Georgia',
        'HI': 'Hawaii', 'ID': 'Idaho', 'IL': 'Illinois', 'IN': 'Indiana', 'IA': 'Iowa',
        'KS': 'Kansas', 'KY': 'Kentucky', 'LA': 'Louisiana', 'ME': 'Maine', 'MD': 'Maryland',
        'MA': 'Massachusetts', 'MI': 'Michigan', 'MN': 'Minnesota', 'MS': 'Mississippi', 'MO': 'Missouri',
        'MT': 'Montana', 'NE': 'Nebraska', 'NV': 'Nevada', 'NH': 'NewHampshire', 'NJ': 'New Jersey',
        'NM': 'New Mexico', 'NY': 'New York', 'NC': 'North Carolina', 'ND': 'North Dakota', 'OH': 'Ohio',
        'OK': 'Oklahoma', 'OR': 'Oregon', 'PA': 'Pennsylvania', 'RI': 'Rhode Island', 'SC': 'South Carolina',
        'SD': 'South Dakota', 'TN': 'Tennessee', 'TX': 'Texas', 'UT': 'Utah', 'VT': 'Vermont',
        'VA': 'Virginia', 'WA': 'Washington', 'WV': 'West Virginia', 'WI': 'Wisconsin', 'WY': 'Wyoming'
    }
    state_codes = list(us_states.keys())
    state_names = list(us_states.values())
    
    # Education levels
    education_levels = [
        'High School', 'Some College', 'Associate Degree', 
        "Bachelor's Degree", "Master's Degree", 'Doctorate', 'Professional Degree'
    ]
    
    # Common first and last names in the US
    first_names_male = ['James', 'John', 'Robert', 'Michael', 'William', 'David', 'Richard', 'Joseph', 'Thomas', 'Charles']
    first_names_female = ['Mary', 'Patricia', 'Jennifer', 'Linda', 'Elizabeth', 'Barbara', 'Susan', 'Jessica', 'Sarah', 'Karen']
    last_names = ['Smith', 'Johnson', 'Williams', 'Brown', 'Jones', 'Garcia', 'Miller', 'Davis', 'Rodriguez', 'Martinez']
    
    # Life stages with probabilities
    life_stages = ['young_professional', 'established_family', 'growing_family', 
                  'pre_retirement', 'retired', 'new_family', 'single_professional']
    life_stage_probs = [0.25, 0.2, 0.15, 0.1, 0.1, 0.1, 0.1]
    
    # Generate synthetic data
    customer_ids = range(1000, 1000 + num_customers)
    genders = np.random.choice(['Male', 'Female'], num_customers, p=[0.48, 0.52])
    ages = np.random.randint(18, 80, num_customers)
    incomes = np.round(np.random.lognormal(10.5, 0.35, num_customers), -3)
    credit_scores = np.random.normal(700, 50, num_customers).astype(int)
    credit_scores = np.clip(credit_scores, 300, 850)
    
    # Generate names based on gender
    names = []
    for gender in genders:
        if gender == 'Male':
            first = random.choice(first_names_male)
        else:
            first = random.choice(first_names_female)
        last = random.choice(last_names)
        names.append(f"{first} {last}")
    
    # Generate education levels correlated with age
    education = []
    for age in ages:
        if age < 22:
            edu = random.choice(['High School', 'Some College'])
        elif age < 30:
            edu = random.choice(['Some College', 'Associate Degree', "Bachelor's Degree"])
        elif age < 45:
            edu = random.choice(["Bachelor's Degree", "Master's Degree"])
        else:
            edu = random.choice(["Bachelor's Degree", "Master's Degree", 'Professional Degree', 'Doctorate'])
        education.append(edu)
    
    # Generate states with some concentration in populous states
    state_weights = [1.0] * len(state_codes)  # Base weights
    # Increase weight for populous states
    for i, code in enumerate(state_codes):
        if code in ['CA', 'TX', 'FL', 'NY', 'PA', 'IL', 'OH']:
            state_weights[i] = 3.0
    state_weights = np.array(state_weights) / sum(state_weights)
    
    states = np.random.choice(state_codes, num_customers, p=state_weights)
    state_full_names = [us_states[code] for code in states]
    
    # Generate marital status correlated with age and life stage
    marital_status = []
    for age in ages:
        if age < 25:
            marital = random.choice(['Single', 'Single', 'Single', 'Married'])
        elif age < 40:
            marital = random.choice(['Single', 'Married', 'Married', 'Divorced'])
        else:
            marital = random.choice(['Married', 'Married', 'Divorced', 'Widowed'])
        marital_status.append(marital)
    
    # Generate number of children correlated with age and marital status
    num_children = []
    for age, marital in zip(ages, marital_status):
        if marital == 'Single':
            children = random.choices([0, 1, 2], weights=[0.8, 0.15, 0.05])[0]
        elif marital == 'Married':
            if age < 30:
                children = random.choices([0, 1, 2], weights=[0.5, 0.3, 0.2])[0]
            elif age < 45:
                children = random.choices([0, 1, 2, 3], weights=[0.2, 0.3, 0.3, 0.2])[0]
            else:
                children = random.choices([0, 1, 2, 3], weights=[0.4, 0.3, 0.2, 0.1])[0]
        else:  # Divorced/Widowed
            children = random.choices([0, 1, 2], weights=[0.6, 0.3, 0.1])[0]
        num_children.append(children)
    
    # Generate correlated financial data (existing code)
    checking_balances = np.round(incomes * np.random.uniform(0.05, 0.3, num_customers), 2)
    savings_balances = np.round(incomes * np.random.uniform(0.1, 2.0, num_customers), 2)
    investment_balances = np.where(
        incomes > 100000,
        np.round(incomes * np.random.uniform(0.5, 5.0, num_customers), 2),
        np.round(incomes * np.random.uniform(0, 0.5, num_customers), 2)
    )
    
    # Generate mortgage data correlated with age and income
    has_mortgage = (ages > 25) & (ages < 65) & (incomes > 50000)
    mortgage_balances = np.where(
        has_mortgage,
        np.round(incomes * np.random.uniform(2, 5, num_customers), 2),
        0
    )
    
    # Generate credit card balances
    credit_card_balances = np.round(incomes * np.random.uniform(0.02, 0.15, num_customers), 2)
    
    # Generate transaction categories as separate columns
    spending_categories = ['groceries', 'dining', 'shopping', 'bills', 
                         'investments', 'travel', 'gas', 'luxury', 'utilities']
    transaction_data = {
        cat: np.random.randint(0, 20, num_customers) for cat in spending_categories
    }
    
    # Generate social engagement
    social_data = {
        'app_logins': np.random.randint(10, 150, num_customers),
        'social_posts': np.random.randint(0, 10, num_customers),
        'rewards_claimed': np.random.randint(0, 5, num_customers),
        'customer_service_contacts': np.random.randint(0, 3, num_customers)
    }
    
    # Generate ecommerce activity
    ecommerce_data = {
        'online_purchases': np.random.randint(0, 20, num_customers),
        'mobile_payments': np.random.randint(0, 15, num_customers),
        'abandoned_carts': np.random.randint(0, 5, num_customers)
    }
    
    # Generate satisfaction metrics
    satisfaction_data = {
        'nps_score': np.random.randint(0, 11, num_customers),
        'csat': np.random.randint(1, 6, num_customers),
        'complaints': np.random.randint(0, 4, num_customers)
    }
    
    # Generate feedback comments
    feedback_options = [
        "The mobile app needs improvement for bill payments",
        "Excellent investment advisory services",
        "Mortgage payment process is confusing",
        "Best private banking experience ever",
        "Credit card rewards could be better",
        "Website navigation is intuitive and easy",
        "Customer service response times are too slow",
        "Love the new budgeting features in the app",
        "Interest rates on savings accounts are too low",
        "Would like more ATM locations in my area"
    ]
    
    # Generate products used
    product_options = ['checking', 'savings', 'mortgage', 'credit_card', 
                      'investment', 'auto_loan', 'student_loan', 'debit_card']
    
    def generate_products():
        num_products = random.randint(1, 6)
        return random.sample(product_options, num_products)
    
    # Create the DataFrame with enhanced demographic data
    data = {
        'customer_id': customer_ids,
        'name': names,
        'gender': genders,
        'age': ages,
        'education': education,
        'marital_status': marital_status,
        'num_children': num_children,
        'country': 'United States',
        'state': states,
        'state_name': state_full_names,
        'income': incomes,
        'credit_score': credit_scores,
        'checking_balance': checking_balances,
        'savings_balance': savings_balances,
        'mortgage_balance': mortgage_balances,
        'credit_card_balance': credit_card_balances,
        'investment_balance': investment_balances,
        'products_used': [generate_products() for _ in range(num_customers)],
        'feedback': random.choices(feedback_options, k=num_customers),
        'life_stage': np.random.choice(life_stages, num_customers, p=life_stage_probs)
    }
    
    # Add all the generated data
    data.update(transaction_data)
    data.update(social_data)
    data.update(ecommerce_data)
    data.update(satisfaction_data)
    
    return pd.DataFrame(data)

# Generate dataset
bank_customers = generate_synthetic_banking_data(500)

# ========== BANKING CUSTOMER ANALYTICS ==========
class BankingCustomerAnalytics:
    def __init__(self, df):
        self.df = df.copy()
        self._preprocess_data()
        self._create_features()
        self._train_models()
        
    def _preprocess_data(self):
        """Data cleaning and preprocessing"""
        # Sentiment Analysis
        sia = SentimentIntensityAnalyzer()
        banking_lexicon = {
            'improvement': -0.5, 'excellent': 2.0, 'confusing': -1.5,
            'best': 1.8, 'better': 0.5, 'needs': -0.7, 'love': 1.5,
            'slow': -1.0, 'intuitive': 1.2, 'low': -0.8, 'great': 1.3
        }
        sia.lexicon.update(banking_lexicon)
        
        self.df['sentiment'] = self.df['feedback'].apply(lambda x: sia.polarity_scores(x)['compound'])
        self.df['sentiment_category'] = np.where(
            self.df['sentiment'] < -0.5, 'Negative',
            np.where(self.df['sentiment'] > 0.5, 'Positive', 'Neutral')
        )
        
        # Create product indicator columns
        all_products = set()
        for products in self.df['products_used']:
            all_products.update(products)
        
        for product in all_products:
            self.df[f'has_{product}'] = self.df['products_used'].apply(lambda x: product in x)
    
    def _create_features(self):
        """Create financial and behavioral features"""
        # Financial Health Metrics
        self.df['debt_to_income'] = (self.df['mortgage_balance'] + self.df['credit_card_balance']) / self.df['income']
        self.df['savings_ratio'] = self.df['savings_balance'] / self.df['income']
        self.df['investment_ratio'] = self.df['investment_balance'] / self.df['income']
        self.df['liquid_assets'] = self.df['checking_balance'] + self.df['savings_balance']
        self.df['total_assets'] = self.df['liquid_assets'] + self.df['investment_balance']
        self.df['net_worth'] = self.df['total_assets'] - (self.df['mortgage_balance'] + self.df['credit_card_balance'])
        
        # Behavioral Features
        self.df['digital_engagement_score'] = (
            self.df['app_logins'] * 0.5 + 
            self.df['social_posts'] * 0.3 + 
            self.df['rewards_claimed'] * 0.2
        )
        self.df['ecommerce_activity_score'] = (
            self.df['online_purchases'] * 0.6 + 
            self.df['mobile_payments'] * 0.4 - 
            self.df['abandoned_carts'] * 0.2
        )
        
        # Spending Categories
        spending_cols = ['groceries', 'dining', 'shopping', 'travel', 'luxury']
        self.df['total_spending'] = self.df[spending_cols].sum(axis=1)
        for col in spending_cols:
            self.df[f'{col}_ratio'] = self.df[col] / self.df['total_spending'].replace(0, 1)
        
        # Customer Lifetime Value (simplified)
        self.df['clv'] = (
            self.df['income'] * 0.05 +  # Revenue from interest/spread
            self.df['total_assets'] * 0.01 +  # Asset-based fees
            self.df['digital_engagement_score'] * 10  # Engagement multiplier
        )
    
    def _train_models(self):
        """Train machine learning models"""
        # Features for segmentation
        segment_features = [
            'income', 'credit_score', 'checking_balance',
            'savings_balance', 'online_purchases', 'app_logins',
            'investment_balance', 'digital_engagement_score',
            'ecommerce_activity_score', 'clv'
        ]
        
        # Scale features
        self.scaler = StandardScaler()
        scaled_features = self.scaler.fit_transform(self.df[segment_features].fillna(0))
        
        # Clustering
        self.kmeans = KMeans(n_clusters=5, random_state=42, n_init=20)
        self.df['segment'] = self.kmeans.fit_predict(scaled_features)
        
        # Name segments
        self.segment_names = {
            0: 'Mass Market',
            1: 'Digital Natives',
            2: 'Affluent Investors',
            3: 'Traditional Savers',
            4: 'High-Potential'
        }
        self.df['segment_name'] = self.df['segment'].map(self.segment_names)
        
        # Anomaly detection
        self.anomaly_detector = IsolationForest(contamination=0.05, random_state=42)
        self.df['anomaly_score'] = self.anomaly_detector.fit_predict(scaled_features)
        self.df['is_anomaly'] = self.df['anomaly_score'] == -1
        
    def get_product_recommendations(self, customer_id):
        """Get product recommendations based on similar customers"""
        # Implementation would go here
        return []

# Initialize analytics
analytics = BankingCustomerAnalytics(bank_customers)
bank_customers = analytics.df

# ========== VISUALIZATION FUNCTIONS ==========
def create_spending_profile(customer, spending_cols=None):
    """Create a spending profile visualization"""
    if spending_cols is None:
        spending_cols = ['groceries', 'dining', 'shopping', 'bills', 'travel']
    
    spending_data = {col: customer[col] for col in spending_cols if col in customer}
    
    if not spending_data:
        return None
    
    fig = go.Figure(go.Pie(
        labels=list(spending_data.keys()),
        values=list(spending_data.values()),
        hole=0.4,
        marker_colors=px.colors.qualitative.Pastel
    ))
    fig.update_layout(
        title="Monthly Spending Pattern",
        height=350,
        margin=dict(t=50, b=20, l=20, r=20)
    )
    return fig

def create_financial_health_radar(customer):
    """Create a radar chart of financial health"""
    metrics = {
        'Debt-to-Income': min(1, customer['debt_to_income']),
        'Savings Ratio': min(1, customer['savings_ratio'] * 5),
        'Investment Ratio': min(1, customer['investment_ratio']),
        'Credit Score': customer['credit_score'] / 850,
        'Digital Engagement': customer['digital_engagement_score'] / 100
    }
    
    fig = go.Figure()
    
    fig.add_trace(go.Scatterpolar(
        r=list(metrics.values()),
        theta=list(metrics.keys()),
        fill='toself',
        name='Your Metrics',
        line_color='#4E79A7'
    ))
    
    # Add benchmark values
    ideal_values = {
        'Debt-to-Income': 0.35,
        'Savings Ratio': 0.2 * 5,
        'Investment Ratio': 0.3,
        'Credit Score': 750/850,
        'Digital Engagement': 0.7
    }
    
    fig.add_trace(go.Scatterpolar(
        r=list(ideal_values.values()),
        theta=list(ideal_values.keys()),
        name='Ideal Benchmark',
        line_color='#59A14F'
    ))
    
    fig.update_layout(
        polar=dict(radialaxis=dict(visible=True, range=[0, 1])),
        showlegend=True,
        title="Financial Health Radar Chart",
        height=350
    )
    
    return fig

def create_trend_projection(customer):
    """Create financial projections"""
    months = list(range(0, 13))
    
    # Project savings growth (5% annual return)
    current_savings = customer['savings_balance']
    savings_proj = [current_savings * (1.05)**(m/12) for m in months]
    
    # Project investment growth (7% annual return)
    current_investment = customer['investment_balance']
    investment_proj = [current_investment * (1.07)**(m/12) for m in months]
    
    # Project debt reduction
    current_debt = customer['mortgage_balance'] + customer['credit_card_balance']
    if current_debt > 0:
        annual_payment = customer['income'] * 0.15
        debt_proj = [max(0, current_debt - (annual_payment * m/12)) for m in months]
    else:
        debt_proj = [0] * len(months)
    
    fig = go.Figure()
    
    fig.add_trace(go.Scatter(
        x=months,
        y=savings_proj,
        mode='lines+markers',
        name='Savings',
        line=dict(color='#4E79A7', width=2)
    ))
    
    fig.add_trace(go.Scatter(
        x=months,
        y=investment_proj,
        mode='lines+markers',
        name='Investments',
        line=dict(color='#59A14F', width=2)
    ))
    
    if current_debt > 0:
        fig.add_trace(go.Scatter(
            x=months,
            y=debt_proj,
            mode='lines+markers',
            name='Debt',
            line=dict(color='#E15759', width=2)
        ))
    
    fig.update_layout(
        title="12-Month Financial Projection",
        xaxis_title="Months",
        yaxis_title="Amount ($)",
        hovermode="x unified",
        height=350
    )
    
    return fig

# ========== RECOMMENDATION ENGINE ==========
class BankingRecommendationEngine:
    def __init__(self, analytics):
        self.analytics = analytics
        self.product_info = {
            'checking': {'desc': "Basic checking account", 'benefit': "No fees"},
            'savings': {'desc': "High-yield savings", 'benefit': "2.5% APY"},
            'mortgage': {'desc': "Home loan", 'benefit': "Low rates"},
            'credit_card': {'desc': "Rewards card", 'benefit': "Cash back"},
            'investment': {'desc': "Investment account", 'benefit': "Grow wealth"},
            'auto_loan': {'desc': "Car financing", 'benefit': "Competitive rates"},
            'student_loan': {'desc': "Student loan", 'benefit': "Refinancing options"},
            'debit_card': {'desc': "Debit card", 'benefit': "Easy access"}
        }
    
    def generate_recommendations(self, customer_id):
        """Generate personalized recommendations"""
        try:
            customer = self.analytics.df[self.analytics.df['customer_id'] == customer_id].iloc[0]
            segment_data = self.analytics.df[self.analytics.df['segment'] == customer['segment']]
            
            recommendations = {
                'financial_products': self._get_product_recs(customer),
                'digital_services': self._get_digital_recs(customer, segment_data),
                'wealth_management': self._get_wealth_recs(customer),
                'credit_optimization': self._get_credit_recs(customer),
                'financial_education': self._get_life_stage_recs(customer),
                'banking_habits': self._get_habit_recs(customer),
                'alerts': self._get_alerts(customer, segment_data)
            }
            
            return recommendations
        except IndexError:
            print(f"Customer {customer_id} not found")
            return None
    
    def _get_product_recs(self, customer):
        """Recommend products customer doesn't have"""
        current_products = customer['products_used']
        return [
            f"{self.product_info[p]['desc']}: {self.product_info[p]['benefit']}"
            for p in self.product_info
            if p not in current_products
        ][:3]  # Limit to top 3
    
    def _get_digital_recs(self, customer, segment_data):
        """Digital service recommendations"""
        recs = []
        if customer['app_logins'] < segment_data['app_logins'].median():
            recs.append("Enable push notifications to increase app engagement")
        if customer['mobile_payments'] < 5:
            recs.append("Try our mobile payment feature for faster checkouts")
        return recs
    
    def _get_wealth_recs(self, customer):
        """Wealth management recommendations"""
        recs = []
        if customer['investment_balance'] < 10000 and customer['age'] < 50:
            recs.append("Start investing with as little as $100 in our starter portfolio")
        if customer['investment_balance'] > 50000:
            recs.append("Schedule a consultation with our wealth management team")
        return recs
    
    def _get_credit_recs(self, customer):
        """Credit optimization recommendations"""
        recs = []
        if customer['credit_card_balance'] > 5000:
            recs.append("Consider a balance transfer to reduce interest payments")
        if customer['credit_score'] < 700:
            recs.append("Credit building program available to help improve your score")
        return recs
    
    def _get_life_stage_recs(self, customer):
        """Life stage specific recommendations"""
        stage = customer['life_stage']
        if stage == 'young_professional':
            return ["Start retirement savings early", "Build credit history"]
        elif stage == 'established_family':
            return ["College savings plans", "Home equity options"]
        elif stage == 'retired':
            return ["Required Minimum Distribution calculator", "Estate planning guide"]
        else:
            return ["Financial wellness checkup"]
    
    def _get_habit_recs(self, customer):
        """Banking habit recommendations"""
        recs = []
        if customer['checking_balance'] > 10000:
            recs.append("Move excess cash to savings to earn more interest")
        if customer['debt_to_income'] > 0.4:
            recs.append("Debt consolidation options available")
        return recs
    
    def _get_alerts(self, customer, segment_data):
        """Financial alerts"""
        alerts = []
        if customer['is_anomaly']:
            alerts.append("Unusual activity detected - please verify your transactions")
        if customer['debt_to_income'] > 0.5:
            alerts.append("High debt-to-income ratio - consider debt counseling")
        return alerts

# Initialize recommendation engine
recommendation_engine = BankingRecommendationEngine(analytics)

# ========== DASHBOARD ==========
def generate_dashboard(customer_id):
    """Generate customer dashboard"""
    try:
        customer = bank_customers[bank_customers['customer_id'] == customer_id].iloc[0]
    except IndexError:
        display(HTML("""<div style="color: red; padding: 20px; border: 1px solid red;">
                      Customer not found</div>"""))
        return
    
    # Get recommendations
    recommendations = recommendation_engine.generate_recommendations(customer_id)
    
    # Determine life stage icon
    life_stage_icons = {
        'young_professional': '👔',
        'established_family': '👨‍👩‍👧‍👦',
        'growing_family': '👪',
        'pre_retirement': '🏖️',
        'retired': '🧓',
        'new_family': '👶',
        'single_professional': '💼'
    }
    
    # Header with enhanced demographic information and visual elements
    display(HTML(f"""
    <div style="background: linear-gradient(135deg, #1a2980, #26d0ce); 
        padding: 25px; border-radius: 10px; color: white; margin-bottom: 20px;
        box-shadow: 0 4px 8px rgba(0,0,0,0.1); position: relative; overflow: hidden;">
        
        <!-- Decorative elements -->
        <div style="position: absolute; right: 20px; top: 20px; opacity: 0.1;">
            <svg width="100" height="100" viewBox="0 0 24 24" fill="none" stroke="currentColor" stroke-width="2" stroke-linecap="round" stroke-linejoin="round">
                <circle cx="12" cy="12" r="10"></circle>
                <line x1="12" y1="8" x2="12" y2="12"></line>
                <line x1="12" y1="16" x2="12.01" y2="16"></line>
            </svg>
        </div>
        
        <div style="display: flex; justify-content: space-between; align-items: center;">
            <!-- Left Section - Customer Identity -->
            <div style="flex: 1; padding-right: 20px;">
                <div style="display: flex; align-items: center; margin-bottom: 15px;">
                    <div style="background: rgba(255,255,255,0.2); width: 60px; height: 60px; border-radius: 50%; 
                        display: flex; align-items: center; justify-content: center; margin-right: 15px; font-size: 24px;">
                        {'👨' if customer['gender'] == 'Male' else '👩'}
                    </div>
                    <div>
                        <h1 style="margin: 0 0 5px 0; font-size: 28px;">{customer['name']}</h1>
                        <div style="font-size: 14px; display: flex; align-items: center; gap: 10px;">
                            <span>ID: {customer_id}</span>
                            <span style="background: rgba(255,255,255,0.2); padding: 2px 8px; border-radius: 10px;">
                                {customer['state']}
                            </span>
                        </div>
                    </div>
                </div>
                
                <!-- Demographic Details Grid -->
                <div style="display: grid; grid-template-columns: repeat(3, 1fr); gap: 10px;">
                    <div style="background: rgba(255,255,255,0.1); padding: 8px; border-radius: 5px;">
                        <div style="font-size: 11px; opacity: 0.8;">AGE</div>
                        <div style="font-size: 16px; font-weight: bold;">{customer['age']}</div>
                    </div>
                    <div style="background: rgba(255,255,255,0.1); padding: 8px; border-radius: 5px;">
                        <div style="font-size: 11px; opacity: 0.8;">GENDER</div>
                        <div style="font-size: 16px; font-weight: bold;">{customer['gender']}</div>
                    </div>
                    <div style="background: rgba(255,255,255,0.1); padding: 8px; border-radius: 5px;">
                        <div style="font-size: 11px; opacity: 0.8;">CHILDREN</div>
                        <div style="font-size: 16px; font-weight: bold;">{customer['num_children']} {'👶' * customer['num_children'] if customer['num_children'] > 0 else '—'}</div>
                    </div>
                    <div style="background: rgba(255,255,255,0.1); padding: 8px; border-radius: 5px;">
                        <div style="font-size: 11px; opacity: 0.8;">EDUCATION</div>
                        <div style="font-size: 16px; font-weight: bold;">{customer['education'].split()[0]}</div>
                    </div>
                    <div style="background: rgba(255,255,255,0.1); padding: 8px; border-radius: 5px;">
                        <div style="font-size: 11px; opacity: 0.8;">MARITAL</div>
                        <div style="font-size: 16px; font-weight: bold;">{customer['marital_status'][0]}</div>
                    </div>
                    <div style="background: rgba(255,255,255,0.1); padding: 8px; border-radius: 5px;">
                        <div style="font-size: 11px; opacity: 0.8;">LOCATION</div>
                        <div style="font-size: 16px; font-weight: bold;">{customer['state_name'].split()[0] if len(customer['state_name'].split()) > 1 else customer['state_name']}</div>
                    </div>
                </div>
            </div>
            
            <!-- Center Divider -->
            <div style="width: 1px; height: 120px; background: rgba(255,255,255,0.3); margin: 0 20px;"></div>
            
            <!-- Right Section - Financial Summary -->
            <div style="flex: 1; padding-left: 20px;">
                <!-- Segment Card -->
                <div style="background: rgba(255,255,255,0.2); padding: 12px; border-radius: 8px; margin-bottom: 15px;">
                    <div style="display: flex; align-items: center; gap: 10px; margin-bottom: 5px;">
                        <span style="font-size: 24px;">{life_stage_icons.get(customer['life_stage'], '👤')}</span>
                        <div>
                            <div style="font-size: 16px; font-weight: bold;">{customer['segment_name']}</div>
                            <div style="font-size: 12px; opacity: 0.9;">{customer['life_stage'].replace('_', ' ').title()}</div>
                        </div>
                    </div>
                </div>
                
                <!-- Financial Stats -->
                <div style="display: grid; grid-template-columns: repeat(2, 1fr); gap: 10px;">
                    <div style="background: rgba(255,255,255,0.1); padding: 10px; border-radius: 5px;">
                        <div style="font-size: 11px; opacity: 0.8;">INCOME</div>
                        <div style="font-size: 18px; font-weight: bold;">${customer['income']/1000:.0f}K</div>
                    </div>
                    <div style="background: rgba(255,255,255,0.1); padding: 10px; border-radius: 5px;">
                        <div style="font-size: 11px; opacity: 0.8;">CREDIT SCORE</div>
                        <div style="font-size: 18px; font-weight: bold; color: {'#006400' if customer['credit_score'] > 700 else '#FFC107' if customer['credit_score'] > 600 else '#F44336'}">
                            {customer['credit_score']}
                        </div>
                    </div>
                    <div style="background: rgba(255,255,255,0.1); padding: 10px; border-radius: 5px;">
                        <div style="font-size: 11px; opacity: 0.8;">NET WORTH</div>
                        <div style="font-size: 18px; font-weight: bold;">${customer['net_worth']/1000:.0f}K</div>
                    </div>
                    <div style="background: rgba(255,255,255,0.1); padding: 10px; border-radius: 5px;">
                        <div style="font-size: 11px; opacity: 0.8;">CLV [Customer Lifetime Value]</div>
                        <div style="font-size: 18px; font-weight: bold;">${customer['clv']/1000:.0f}K</div>
                    </div>
                </div>
            </div>
        </div>
    </div>
    """))
    
    # First Row - Financial Overview
    display(HTML("<h3 style='color: #2c3e50; border-bottom: 1px solid #eee; padding-bottom: 5px;'>Financial Overview</h3>"))
    
    # Create and show visualizations
    spending_cols = ['groceries', 'dining', 'shopping', 'bills', 'travel']
    spending_fig = create_spending_profile(customer, spending_cols)
    if spending_fig:
        spending_fig.show()
    
    health_fig = create_financial_health_radar(customer)
    health_fig.show()
    
    # Rest of the dashboard remains the same...
    # Second Row - Projections
    display(HTML("<h3 style='color: #2c3e50; border-bottom: 1px solid #eee; padding-bottom: 5px;'>Financial Projections</h3>"))
    trend_fig = create_trend_projection(customer)
    trend_fig.show()
    
    # Third Row - Customer Insights
    display(HTML("<h3 style='color: #2c3e50; border-bottom: 1px solid #eee; padding-bottom: 5px;'>Customer Insights</h3>"))
    
    # Get primary spending category
    spending_cols = ['groceries', 'dining', 'shopping', 'bills', 'travel']
    primary_spending = max(spending_cols, key=lambda x: customer.get(x, 0))
    
    insights_html = f"""
    <div style="display: grid; grid-template-columns: repeat(3, 1fr); gap: 20px; margin-bottom: 20px;">
        <div style="background: #e3f2fd; padding: 15px; border-radius: 8px; box-shadow: 0 2px 4px rgba(0,0,0,0.05);">
            <h4 style="margin-top: 0; color: #0d47a1; border-bottom: 1px solid #bbdefb; padding-bottom: 8px;">Financial Snapshot</h4>
            <p><strong>Total Assets:</strong> ${customer['total_assets']:,.0f}</p>
            <p><strong>Liquid Assets:</strong> ${customer['liquid_assets']:,.0f}</p>
            <p><strong>Total Debt:</strong> ${customer['mortgage_balance'] + customer['credit_card_balance']:,.0f}</p>
            <p><strong>Debt-to-Income:</strong> {customer['debt_to_income']:.2f} {'🚩' if customer['debt_to_income'] > 0.4 else ''}</p>
        </div>
        
        <div style="background: #e8f5e9; padding: 15px; border-radius: 8px; box-shadow: 0 2px 4px rgba(0,0,0,0.05);">
            <h4 style="margin-top: 0; color: #2e7d32; border-bottom: 1px solid #c8e6c9; padding-bottom: 8px;">Behavioral Insights</h4>
            <p><strong>Digital Engagement:</strong> {customer['digital_engagement_score']:.1f}/100</p>
            <p><strong>E-commerce Activity:</strong> {customer['ecommerce_activity_score']:.1f}/100</p>
            <p><strong>Primary Spending:</strong> {primary_spending.title()}</p>
            <p><strong>Products Used:</strong> {len(customer['products_used'])} of 8</p>
        </div>
        
        <div style="background: #fff3e0; padding: 15px; border-radius: 8px; box-shadow: 0 2px 4px rgba(0,0,0,0.05);">
            <h4 style="margin-top: 0; color: #e65100; border-bottom: 1px solid #ffe0b2; padding-bottom: 8px;">Customer Experience</h4>
            <p><strong>NPS Score:</strong> {customer['nps_score']}/10 {'⭐' * int(customer['nps_score'])}</p>
            <p><strong>Sentiment:</strong> <span style="color: {'#F44336' if customer['sentiment_category'] == 'Negative' else '#FFC107' if customer['sentiment_category'] == 'Neutral' else '#4CAF50'}">
                {customer['sentiment_category']}</span></p>
            <p><strong>Feedback:</strong> "{customer['feedback']}"</p>
            <p><strong>Anomaly Detection:</strong> {'⚠️ Flagged' if customer['is_anomaly'] else '✅ Normal'}</p>
        </div>
    </div>
    """
    display(HTML(insights_html))
    
    # Recommendations section remains the same...
    if recommendations:
        display(HTML("<h3 style='color: #2c3e50; border-bottom: 1px solid #eee; padding-bottom: 5px;'>Personalized Recommendations</h3>"))
        
        def create_rec_card(title, recs, icon, color):
            if recs:
                return f"""
                <div style="background: {color}08; border-left: 4px solid {color}; padding: 15px; border-radius: 5px; margin-bottom: 15px;
                            box-shadow: 0 2px 4px rgba(0,0,0,0.05);">
                    <h4 style="margin-top: 0; color: {color}; display: flex; align-items: center; gap: 8px;">
                        <span style="font-size: 20px;">{icon}</span> {title}
                    </h4>
                    <ul style="padding-left: 20px; margin-bottom: 0;">{''.join(f'<li style="margin-bottom: 8px;">{rec}</li>' for rec in recs)}</ul>
                </div>
                """
            return ""
        
        rec_html = "<div style='display: grid; grid-template-columns: repeat(2, 1fr); gap: 15px;'>"
        
        rec_html += create_rec_card(
            "Financial Products", 
            recommendations['financial_products'], 
            "💰", "#2196F3"
        )
        rec_html += create_rec_card(
            "Digital Services", 
            recommendations['digital_services'], 
            "📱", "#4CAF50"
        )
        rec_html += create_rec_card(
            "Wealth Management", 
            recommendations['wealth_management'], 
            "📈", "#9C27B0"
        )
        rec_html += create_rec_card(
            "Credit Optimization", 
            recommendations['credit_optimization'], 
            "💳", "#FF9800"
        )
        rec_html += create_rec_card(
            "Financial Education", 
            recommendations['financial_education'], 
            "🎓", "#00BCD4"
        )
        rec_html += create_rec_card(
            "Banking Habits", 
            recommendations['banking_habits'], 
            "🔄", "#607D8B"
        )
        
        # Alerts at the bottom spanning full width
        if recommendations['alerts']:
            rec_html += f"""
            <div style="grid-column: span 2; background: #ffebee; border-left: 4px solid #f44336; 
                        padding: 15px; border-radius: 5px; margin-top: 10px;">
                <h4 style="margin-top: 0; color: #f44336; display: flex; align-items: center; gap: 8px;">
                    <span style="font-size: 20px;">⚠️</span> Important Alerts
                </h4>
                <ul style="padding-left: 20px; margin-bottom: 0;">{''.join(f'<li style="margin-bottom: 8px; color: #b71c1c;">{rec}</li>' for rec in recommendations['alerts'])}</ul>
            </div>
            """
        
        rec_html += "</div>"
        display(HTML(rec_html))

# ========== RUN DASHBOARD ==========
# Generate dashboard for a customer (change ID to view different customers)
generate_dashboard(1001)
